{
 "cells": [
  {
   "cell_type": "markdown",
   "id": "56d62709",
   "metadata": {},
   "source": [
    "# Project: Wrangling and preparing data set for analyzing\n",
    "## DS: Movies Metadata"
   ]
  },
  {
   "cell_type": "markdown",
   "id": "942153db",
   "metadata": {},
   "source": [
    "#### Context\n",
    "\n",
    "These files contain metadata for all 45,000 movies listed in the Full MovieLens Dataset. The dataset consists of movies released on or before July 2017. Data points include cast, crew, plot keywords, budget, revenue, posters, release dates, languages, production companies, countries, TMDB vote counts and vote averages.\n",
    "\n",
    "This dataset also has files containing 26 million ratings from 270,000 users for all 45,000 movies. Ratings are on a scale of 1-5 and have been obtained from the official GroupLens website."
   ]
  },
  {
   "cell_type": "markdown",
   "id": "7d80a8ae",
   "metadata": {},
   "source": [
    "#### Goal\n",
    "\n",
    "This midterm project's primary goal is to __clean and prepare data set for analysis in Tableau.__\n",
    "The final data should be clean and have all the necessary information to answer the main question:\n",
    "_\"What are the main features differences between the top 100 movies from other remaining profitable movies released between 2000 and 2017, with a minimum profit of 40%?'_"
   ]
  },
  {
   "cell_type": "markdown",
   "id": "da8b978c",
   "metadata": {},
   "source": [
    "__The project consists of the steps listed below:__\n",
    "- 1: Gathering data\n",
    "- 2: Assessing data\n",
    "- 3: Cleaning data\n",
    "- 4: Storing data\n"
   ]
  },
  {
   "cell_type": "code",
   "execution_count": 609,
   "id": "a93e6013",
   "metadata": {},
   "outputs": [],
   "source": [
    "#Import all packages needed\n",
    "import pandas as pd\n",
    "import numpy as np\n",
    "import matplotlib.pyplot as plt\n",
    "import json\n",
    "import ast\n",
    "import seaborn as sns\n",
    "import matplotlib.pyplot as plt\n"
   ]
  },
  {
   "cell_type": "code",
   "execution_count": 610,
   "id": "78c08b15",
   "metadata": {},
   "outputs": [],
   "source": [
    "# Setting the plotting theme\n",
    "sns.set()\n",
    "sns.set_theme(style=\"darkgrid\")\n",
    "\n",
    "# and setting the size of all plots\n",
    "plt.rcParams['figure.figsize'] = 15, 5\n",
    "\n",
    "# and setting the colors\n",
    "color = [\"#4b85a8\", \"#d98100\", \"#aba597\"]\n",
    "\n"
   ]
  },
  {
   "cell_type": "markdown",
   "id": "d062b501",
   "metadata": {},
   "source": [
    "## Data Gathering"
   ]
  },
  {
   "cell_type": "markdown",
   "id": "51e23359",
   "metadata": {},
   "source": [
    "__In the cell below, gather a piece of data for this project and load them into the notebook.__\n",
    "\n",
    "- Directly download the Movies MetaData (movies_metadata.csv)\n"
   ]
  },
  {
   "cell_type": "code",
   "execution_count": 611,
   "id": "e92b8000",
   "metadata": {},
   "outputs": [
    {
     "name": "stderr",
     "output_type": "stream",
     "text": [
      "/Users/kristina/opt/anaconda3/lib/python3.8/site-packages/IPython/core/interactiveshell.py:3165: DtypeWarning: Columns (21) have mixed types.Specify dtype option on import or set low_memory=False.\n",
      "  has_raised = await self.run_ast_nodes(code_ast.body, cell_name,\n"
     ]
    }
   ],
   "source": [
    "# Read in the csv file\n",
    "movies = pd.read_csv(\"movies_metadata.csv\")\n"
   ]
  },
  {
   "cell_type": "code",
   "execution_count": 612,
   "id": "e2672a0e",
   "metadata": {},
   "outputs": [
    {
     "data": {
      "text/html": [
       "<div>\n",
       "<style scoped>\n",
       "    .dataframe tbody tr th:only-of-type {\n",
       "        vertical-align: middle;\n",
       "    }\n",
       "\n",
       "    .dataframe tbody tr th {\n",
       "        vertical-align: top;\n",
       "    }\n",
       "\n",
       "    .dataframe thead th {\n",
       "        text-align: right;\n",
       "    }\n",
       "</style>\n",
       "<table border=\"1\" class=\"dataframe\">\n",
       "  <thead>\n",
       "    <tr style=\"text-align: right;\">\n",
       "      <th></th>\n",
       "      <th>adult</th>\n",
       "      <th>belongs_to_collection</th>\n",
       "      <th>budget</th>\n",
       "      <th>genres</th>\n",
       "      <th>homepage</th>\n",
       "      <th>id</th>\n",
       "      <th>imdb_id</th>\n",
       "      <th>original_language</th>\n",
       "      <th>original_title</th>\n",
       "      <th>overview</th>\n",
       "      <th>...</th>\n",
       "      <th>release_date</th>\n",
       "      <th>revenue</th>\n",
       "      <th>runtime</th>\n",
       "      <th>spoken_languages</th>\n",
       "      <th>status</th>\n",
       "      <th>tagline</th>\n",
       "      <th>title</th>\n",
       "      <th>video</th>\n",
       "      <th>vote_average</th>\n",
       "      <th>vote_count</th>\n",
       "    </tr>\n",
       "  </thead>\n",
       "  <tbody>\n",
       "    <tr>\n",
       "      <th>0</th>\n",
       "      <td>False</td>\n",
       "      <td>NaN</td>\n",
       "      <td>0</td>\n",
       "      <td>[{'id': 80, 'name': 'Crime'}, {'id': 18, 'name...</td>\n",
       "      <td>NaN</td>\n",
       "      <td>26162</td>\n",
       "      <td>tt0020668</td>\n",
       "      <td>en</td>\n",
       "      <td>The Bat Whispers</td>\n",
       "      <td>A master criminal terrorizes the occupants of ...</td>\n",
       "      <td>...</td>\n",
       "      <td>1/1/30</td>\n",
       "      <td>0.0</td>\n",
       "      <td>83.0</td>\n",
       "      <td>[{'iso_639_1': 'en', 'name': 'English'}]</td>\n",
       "      <td>Released</td>\n",
       "      <td>NaN</td>\n",
       "      <td>The Bat Whispers</td>\n",
       "      <td>False</td>\n",
       "      <td>6.3</td>\n",
       "      <td>4.0</td>\n",
       "    </tr>\n",
       "    <tr>\n",
       "      <th>1</th>\n",
       "      <td>False</td>\n",
       "      <td>NaN</td>\n",
       "      <td>0</td>\n",
       "      <td>[{'id': 18, 'name': 'Drama'}]</td>\n",
       "      <td>NaN</td>\n",
       "      <td>56178</td>\n",
       "      <td>tt0021273</td>\n",
       "      <td>fr</td>\n",
       "      <td>Prix de beautթ</td>\n",
       "      <td>Lucienne, typist and gorgeous bathing beauty, ...</td>\n",
       "      <td>...</td>\n",
       "      <td>1/1/30</td>\n",
       "      <td>0.0</td>\n",
       "      <td>93.0</td>\n",
       "      <td>[{'iso_639_1': 'fr', 'name': 'Fran�_ais'}]</td>\n",
       "      <td>Released</td>\n",
       "      <td>NaN</td>\n",
       "      <td>Beauty Prize</td>\n",
       "      <td>False</td>\n",
       "      <td>0.0</td>\n",
       "      <td>1.0</td>\n",
       "    </tr>\n",
       "    <tr>\n",
       "      <th>2</th>\n",
       "      <td>False</td>\n",
       "      <td>NaN</td>\n",
       "      <td>0</td>\n",
       "      <td>[]</td>\n",
       "      <td>NaN</td>\n",
       "      <td>195617</td>\n",
       "      <td>tt0021004</td>\n",
       "      <td>en</td>\n",
       "      <td>It's a Bird</td>\n",
       "      <td>Charlie, working on a junkjard, always trying ...</td>\n",
       "      <td>...</td>\n",
       "      <td>1/1/30</td>\n",
       "      <td>0.0</td>\n",
       "      <td>14.0</td>\n",
       "      <td>[]</td>\n",
       "      <td>Released</td>\n",
       "      <td>NaN</td>\n",
       "      <td>It's a Bird</td>\n",
       "      <td>False</td>\n",
       "      <td>8.0</td>\n",
       "      <td>2.0</td>\n",
       "    </tr>\n",
       "    <tr>\n",
       "      <th>3</th>\n",
       "      <td>False</td>\n",
       "      <td>NaN</td>\n",
       "      <td>0</td>\n",
       "      <td>[{'id': 10402, 'name': 'Music'}, {'id': 35, 'n...</td>\n",
       "      <td>NaN</td>\n",
       "      <td>54419</td>\n",
       "      <td>tt0021409</td>\n",
       "      <td>fr</td>\n",
       "      <td>Sous les toits de Paris</td>\n",
       "      <td>Albert is smitten for Pola but ends up wrongly...</td>\n",
       "      <td>...</td>\n",
       "      <td>1/2/30</td>\n",
       "      <td>0.0</td>\n",
       "      <td>96.0</td>\n",
       "      <td>[{'iso_639_1': 'fr', 'name': 'Fran�_ais'}, {'i...</td>\n",
       "      <td>Rumored</td>\n",
       "      <td>NaN</td>\n",
       "      <td>Under the Roofs of Paris</td>\n",
       "      <td>False</td>\n",
       "      <td>6.2</td>\n",
       "      <td>9.0</td>\n",
       "    </tr>\n",
       "    <tr>\n",
       "      <th>4</th>\n",
       "      <td>False</td>\n",
       "      <td>{'id': 281097, 'name': 'Philo Vance Collection...</td>\n",
       "      <td>0</td>\n",
       "      <td>[{'id': 9648, 'name': 'Mystery'}]</td>\n",
       "      <td>NaN</td>\n",
       "      <td>61546</td>\n",
       "      <td>tt0020695</td>\n",
       "      <td>en</td>\n",
       "      <td>The Bishop Murder Case</td>\n",
       "      <td>The murders start with the body of Robin. He i...</td>\n",
       "      <td>...</td>\n",
       "      <td>1/3/30</td>\n",
       "      <td>0.0</td>\n",
       "      <td>88.0</td>\n",
       "      <td>[{'iso_639_1': 'en', 'name': 'English'}]</td>\n",
       "      <td>Released</td>\n",
       "      <td>ALL-TALKING!...ALL-THRILLS!</td>\n",
       "      <td>The Bishop Murder Case</td>\n",
       "      <td>False</td>\n",
       "      <td>3.6</td>\n",
       "      <td>4.0</td>\n",
       "    </tr>\n",
       "  </tbody>\n",
       "</table>\n",
       "<p>5 rows × 24 columns</p>\n",
       "</div>"
      ],
      "text/plain": [
       "   adult                              belongs_to_collection  budget  \\\n",
       "0  False                                                NaN       0   \n",
       "1  False                                                NaN       0   \n",
       "2  False                                                NaN       0   \n",
       "3  False                                                NaN       0   \n",
       "4  False  {'id': 281097, 'name': 'Philo Vance Collection...       0   \n",
       "\n",
       "                                              genres homepage      id  \\\n",
       "0  [{'id': 80, 'name': 'Crime'}, {'id': 18, 'name...      NaN   26162   \n",
       "1                      [{'id': 18, 'name': 'Drama'}]      NaN   56178   \n",
       "2                                                 []      NaN  195617   \n",
       "3  [{'id': 10402, 'name': 'Music'}, {'id': 35, 'n...      NaN   54419   \n",
       "4                  [{'id': 9648, 'name': 'Mystery'}]      NaN   61546   \n",
       "\n",
       "     imdb_id original_language           original_title  \\\n",
       "0  tt0020668                en         The Bat Whispers   \n",
       "1  tt0021273                fr           Prix de beautթ   \n",
       "2  tt0021004                en              It's a Bird   \n",
       "3  tt0021409                fr  Sous les toits de Paris   \n",
       "4  tt0020695                en   The Bishop Murder Case   \n",
       "\n",
       "                                            overview  ...  release_date  \\\n",
       "0  A master criminal terrorizes the occupants of ...  ...        1/1/30   \n",
       "1  Lucienne, typist and gorgeous bathing beauty, ...  ...        1/1/30   \n",
       "2  Charlie, working on a junkjard, always trying ...  ...        1/1/30   \n",
       "3  Albert is smitten for Pola but ends up wrongly...  ...        1/2/30   \n",
       "4  The murders start with the body of Robin. He i...  ...        1/3/30   \n",
       "\n",
       "  revenue runtime                                   spoken_languages  \\\n",
       "0     0.0    83.0           [{'iso_639_1': 'en', 'name': 'English'}]   \n",
       "1     0.0    93.0         [{'iso_639_1': 'fr', 'name': 'Fran�_ais'}]   \n",
       "2     0.0    14.0                                                 []   \n",
       "3     0.0    96.0  [{'iso_639_1': 'fr', 'name': 'Fran�_ais'}, {'i...   \n",
       "4     0.0    88.0           [{'iso_639_1': 'en', 'name': 'English'}]   \n",
       "\n",
       "     status                      tagline                     title  video  \\\n",
       "0  Released                          NaN          The Bat Whispers  False   \n",
       "1  Released                          NaN              Beauty Prize  False   \n",
       "2  Released                          NaN               It's a Bird  False   \n",
       "3   Rumored                          NaN  Under the Roofs of Paris  False   \n",
       "4  Released  ALL-TALKING!...ALL-THRILLS!    The Bishop Murder Case  False   \n",
       "\n",
       "  vote_average vote_count  \n",
       "0          6.3        4.0  \n",
       "1          0.0        1.0  \n",
       "2          8.0        2.0  \n",
       "3          6.2        9.0  \n",
       "4          3.6        4.0  \n",
       "\n",
       "[5 rows x 24 columns]"
      ]
     },
     "execution_count": 612,
     "metadata": {},
     "output_type": "execute_result"
    }
   ],
   "source": [
    "# Inspect data\n",
    "movies.head()\n"
   ]
  },
  {
   "cell_type": "markdown",
   "id": "b1db1918",
   "metadata": {},
   "source": [
    "## Assessing Data"
   ]
  },
  {
   "cell_type": "code",
   "execution_count": 613,
   "id": "3803fc48",
   "metadata": {},
   "outputs": [
    {
     "name": "stdout",
     "output_type": "stream",
     "text": [
      "<class 'pandas.core.frame.DataFrame'>\n",
      "RangeIndex: 45463 entries, 0 to 45462\n",
      "Data columns (total 24 columns):\n",
      " #   Column                 Non-Null Count  Dtype  \n",
      "---  ------                 --------------  -----  \n",
      " 0   adult                  45463 non-null  bool   \n",
      " 1   belongs_to_collection  4491 non-null   object \n",
      " 2   budget                 45463 non-null  int64  \n",
      " 3   genres                 45463 non-null  object \n",
      " 4   homepage               7779 non-null   object \n",
      " 5   id                     45463 non-null  int64  \n",
      " 6   imdb_id                45446 non-null  object \n",
      " 7   original_language      45452 non-null  object \n",
      " 8   original_title         45463 non-null  object \n",
      " 9   overview               44509 non-null  object \n",
      " 10  popularity             45460 non-null  float64\n",
      " 11  poster_path            45077 non-null  object \n",
      " 12  production_companies   45460 non-null  object \n",
      " 13  production_countries   45460 non-null  object \n",
      " 14  release_date           45376 non-null  object \n",
      " 15  revenue                45460 non-null  float64\n",
      " 16  runtime                45203 non-null  float64\n",
      " 17  spoken_languages       45460 non-null  object \n",
      " 18  status                 45379 non-null  object \n",
      " 19  tagline                20412 non-null  object \n",
      " 20  title                  45460 non-null  object \n",
      " 21  video                  45460 non-null  object \n",
      " 22  vote_average           45460 non-null  float64\n",
      " 23  vote_count             45460 non-null  float64\n",
      "dtypes: bool(1), float64(5), int64(2), object(16)\n",
      "memory usage: 8.0+ MB\n"
     ]
    }
   ],
   "source": [
    "# Print data information\n",
    "movies.info()\n"
   ]
  },
  {
   "cell_type": "code",
   "execution_count": 614,
   "id": "206c5183",
   "metadata": {},
   "outputs": [
    {
     "data": {
      "text/html": [
       "<div>\n",
       "<style scoped>\n",
       "    .dataframe tbody tr th:only-of-type {\n",
       "        vertical-align: middle;\n",
       "    }\n",
       "\n",
       "    .dataframe tbody tr th {\n",
       "        vertical-align: top;\n",
       "    }\n",
       "\n",
       "    .dataframe thead th {\n",
       "        text-align: right;\n",
       "    }\n",
       "</style>\n",
       "<table border=\"1\" class=\"dataframe\">\n",
       "  <thead>\n",
       "    <tr style=\"text-align: right;\">\n",
       "      <th></th>\n",
       "      <th>budget</th>\n",
       "      <th>id</th>\n",
       "      <th>popularity</th>\n",
       "      <th>revenue</th>\n",
       "      <th>runtime</th>\n",
       "      <th>vote_average</th>\n",
       "      <th>vote_count</th>\n",
       "    </tr>\n",
       "  </thead>\n",
       "  <tbody>\n",
       "    <tr>\n",
       "      <th>count</th>\n",
       "      <td>4.546300e+04</td>\n",
       "      <td>45463.000000</td>\n",
       "      <td>45460.000000</td>\n",
       "      <td>4.546000e+04</td>\n",
       "      <td>45203.000000</td>\n",
       "      <td>45460.000000</td>\n",
       "      <td>45460.000000</td>\n",
       "    </tr>\n",
       "    <tr>\n",
       "      <th>mean</th>\n",
       "      <td>4.224579e+06</td>\n",
       "      <td>108359.918813</td>\n",
       "      <td>2.921443</td>\n",
       "      <td>1.120935e+07</td>\n",
       "      <td>94.128199</td>\n",
       "      <td>5.618207</td>\n",
       "      <td>109.897338</td>\n",
       "    </tr>\n",
       "    <tr>\n",
       "      <th>std</th>\n",
       "      <td>1.742413e+07</td>\n",
       "      <td>112460.749278</td>\n",
       "      <td>6.005427</td>\n",
       "      <td>6.433225e+07</td>\n",
       "      <td>38.407810</td>\n",
       "      <td>1.924216</td>\n",
       "      <td>491.310374</td>\n",
       "    </tr>\n",
       "    <tr>\n",
       "      <th>min</th>\n",
       "      <td>0.000000e+00</td>\n",
       "      <td>2.000000</td>\n",
       "      <td>0.000000</td>\n",
       "      <td>0.000000e+00</td>\n",
       "      <td>0.000000</td>\n",
       "      <td>0.000000</td>\n",
       "      <td>0.000000</td>\n",
       "    </tr>\n",
       "    <tr>\n",
       "      <th>25%</th>\n",
       "      <td>0.000000e+00</td>\n",
       "      <td>26449.500000</td>\n",
       "      <td>0.390000</td>\n",
       "      <td>0.000000e+00</td>\n",
       "      <td>85.000000</td>\n",
       "      <td>5.000000</td>\n",
       "      <td>3.000000</td>\n",
       "    </tr>\n",
       "    <tr>\n",
       "      <th>50%</th>\n",
       "      <td>0.000000e+00</td>\n",
       "      <td>60003.000000</td>\n",
       "      <td>1.130000</td>\n",
       "      <td>0.000000e+00</td>\n",
       "      <td>95.000000</td>\n",
       "      <td>6.000000</td>\n",
       "      <td>10.000000</td>\n",
       "    </tr>\n",
       "    <tr>\n",
       "      <th>75%</th>\n",
       "      <td>0.000000e+00</td>\n",
       "      <td>157328.000000</td>\n",
       "      <td>3.680000</td>\n",
       "      <td>0.000000e+00</td>\n",
       "      <td>107.000000</td>\n",
       "      <td>6.800000</td>\n",
       "      <td>34.000000</td>\n",
       "    </tr>\n",
       "    <tr>\n",
       "      <th>max</th>\n",
       "      <td>3.800000e+08</td>\n",
       "      <td>469172.000000</td>\n",
       "      <td>547.490000</td>\n",
       "      <td>2.787965e+09</td>\n",
       "      <td>1256.000000</td>\n",
       "      <td>10.000000</td>\n",
       "      <td>14075.000000</td>\n",
       "    </tr>\n",
       "  </tbody>\n",
       "</table>\n",
       "</div>"
      ],
      "text/plain": [
       "             budget             id    popularity       revenue       runtime  \\\n",
       "count  4.546300e+04   45463.000000  45460.000000  4.546000e+04  45203.000000   \n",
       "mean   4.224579e+06  108359.918813      2.921443  1.120935e+07     94.128199   \n",
       "std    1.742413e+07  112460.749278      6.005427  6.433225e+07     38.407810   \n",
       "min    0.000000e+00       2.000000      0.000000  0.000000e+00      0.000000   \n",
       "25%    0.000000e+00   26449.500000      0.390000  0.000000e+00     85.000000   \n",
       "50%    0.000000e+00   60003.000000      1.130000  0.000000e+00     95.000000   \n",
       "75%    0.000000e+00  157328.000000      3.680000  0.000000e+00    107.000000   \n",
       "max    3.800000e+08  469172.000000    547.490000  2.787965e+09   1256.000000   \n",
       "\n",
       "       vote_average    vote_count  \n",
       "count  45460.000000  45460.000000  \n",
       "mean       5.618207    109.897338  \n",
       "std        1.924216    491.310374  \n",
       "min        0.000000      0.000000  \n",
       "25%        5.000000      3.000000  \n",
       "50%        6.000000     10.000000  \n",
       "75%        6.800000     34.000000  \n",
       "max       10.000000  14075.000000  "
      ]
     },
     "execution_count": 614,
     "metadata": {},
     "output_type": "execute_result"
    }
   ],
   "source": [
    "# Print stat summary\n",
    "movies.describe()\n"
   ]
  },
  {
   "cell_type": "code",
   "execution_count": 615,
   "id": "b82b4c12",
   "metadata": {},
   "outputs": [
    {
     "data": {
      "text/plain": [
       "(45463, 24)"
      ]
     },
     "execution_count": 615,
     "metadata": {},
     "output_type": "execute_result"
    }
   ],
   "source": [
    "# Print shape of data set \n",
    "movies.shape\n"
   ]
  },
  {
   "cell_type": "code",
   "execution_count": 616,
   "id": "29d7ea2e",
   "metadata": {},
   "outputs": [
    {
     "data": {
      "text/plain": [
       "Index(['adult', 'belongs_to_collection', 'budget', 'genres', 'homepage', 'id',\n",
       "       'imdb_id', 'original_language', 'original_title', 'overview',\n",
       "       'popularity', 'poster_path', 'production_companies',\n",
       "       'production_countries', 'release_date', 'revenue', 'runtime',\n",
       "       'spoken_languages', 'status', 'tagline', 'title', 'video',\n",
       "       'vote_average', 'vote_count'],\n",
       "      dtype='object')"
      ]
     },
     "execution_count": 616,
     "metadata": {},
     "output_type": "execute_result"
    }
   ],
   "source": [
    "# Print movies columns \n",
    "movies.columns\n"
   ]
  },
  {
   "cell_type": "markdown",
   "id": "d9b18b9c",
   "metadata": {},
   "source": [
    "### Quality issues\n",
    "\n",
    "#### df: movies\n",
    "\n",
    "\n",
    "- The column \"budget\" contains the string object.\n",
    "- The column \"budget\" has an object data type.\n",
    "- The column \"popularity\" has an object data type.\n",
    "- The column \"revenue\" has a float data type.\n",
    "- The column \"release_date\" has an object data type.\n",
    "- Redundant columns not relevant to the problem statement.\n",
    "- The columns \"budget\" and \"revenue\" contain 0s.\n",
    "- The columns \"budget\" and \"revenue\" contain extremely small values.\n"
   ]
  },
  {
   "cell_type": "markdown",
   "id": "e64bd38a",
   "metadata": {},
   "source": [
    "### Tidiness issues\n",
    "#### df: movies\n",
    "\n",
    "- There is no \"profit\" column.\n",
    "- There is no \"profit_ratio\" column.\n",
    "- The \"genre\" column should have one primary genre.\n",
    "- The \"production_companies\" column should have one company name.\n"
   ]
  },
  {
   "cell_type": "markdown",
   "id": "bae3bf88",
   "metadata": {},
   "source": [
    "## Cleaning Data\n",
    "In this section, clean **all** of the issues you documented while assessing. \n"
   ]
  },
  {
   "cell_type": "code",
   "execution_count": 617,
   "id": "d25bce1b",
   "metadata": {},
   "outputs": [],
   "source": [
    "# Make copie of the original piece of data\n",
    "movies_df = movies.copy()\n"
   ]
  },
  {
   "cell_type": "markdown",
   "id": "50a4a5db",
   "metadata": {},
   "source": [
    "### Issue: Redundant columns not relevant to the problem statement.\n",
    "#### Define: The columns  'adult', 'belongs_to_collection','homepage', 'id', 'imdb_id', 'overview','poster_path', 'production_countries','spoken_languages', 'tagline', 'title', 'video' contain unnecessary information, drop them.  \n",
    "#### Code"
   ]
  },
  {
   "cell_type": "code",
   "execution_count": 618,
   "id": "2a19139e",
   "metadata": {},
   "outputs": [],
   "source": [
    "# Drop columns\n",
    "drop_col = ['adult', 'belongs_to_collection','homepage', 'id',\n",
    "            'imdb_id', 'overview','poster_path','production_countries',\n",
    "            'spoken_languages', 'tagline', 'original_title', 'video', 'original_language']\n",
    "\n",
    "movies_df = movies_df.drop(drop_col, axis = 1)\n"
   ]
  },
  {
   "cell_type": "markdown",
   "id": "0cb32d37",
   "metadata": {},
   "source": [
    "#### Test"
   ]
  },
  {
   "cell_type": "code",
   "execution_count": 619,
   "id": "c1d2ae73",
   "metadata": {
    "scrolled": true
   },
   "outputs": [
    {
     "data": {
      "text/html": [
       "<div>\n",
       "<style scoped>\n",
       "    .dataframe tbody tr th:only-of-type {\n",
       "        vertical-align: middle;\n",
       "    }\n",
       "\n",
       "    .dataframe tbody tr th {\n",
       "        vertical-align: top;\n",
       "    }\n",
       "\n",
       "    .dataframe thead th {\n",
       "        text-align: right;\n",
       "    }\n",
       "</style>\n",
       "<table border=\"1\" class=\"dataframe\">\n",
       "  <thead>\n",
       "    <tr style=\"text-align: right;\">\n",
       "      <th></th>\n",
       "      <th>budget</th>\n",
       "      <th>genres</th>\n",
       "      <th>popularity</th>\n",
       "      <th>production_companies</th>\n",
       "      <th>release_date</th>\n",
       "      <th>revenue</th>\n",
       "      <th>runtime</th>\n",
       "      <th>status</th>\n",
       "      <th>title</th>\n",
       "      <th>vote_average</th>\n",
       "      <th>vote_count</th>\n",
       "    </tr>\n",
       "  </thead>\n",
       "  <tbody>\n",
       "    <tr>\n",
       "      <th>0</th>\n",
       "      <td>0</td>\n",
       "      <td>[{'id': 80, 'name': 'Crime'}, {'id': 18, 'name...</td>\n",
       "      <td>0.67</td>\n",
       "      <td>[{'name': 'Joseph M. Schenck Productions', 'id...</td>\n",
       "      <td>1/1/30</td>\n",
       "      <td>0.0</td>\n",
       "      <td>83.0</td>\n",
       "      <td>Released</td>\n",
       "      <td>The Bat Whispers</td>\n",
       "      <td>6.3</td>\n",
       "      <td>4.0</td>\n",
       "    </tr>\n",
       "    <tr>\n",
       "      <th>1</th>\n",
       "      <td>0</td>\n",
       "      <td>[{'id': 18, 'name': 'Drama'}]</td>\n",
       "      <td>0.44</td>\n",
       "      <td>[]</td>\n",
       "      <td>1/1/30</td>\n",
       "      <td>0.0</td>\n",
       "      <td>93.0</td>\n",
       "      <td>Released</td>\n",
       "      <td>Beauty Prize</td>\n",
       "      <td>0.0</td>\n",
       "      <td>1.0</td>\n",
       "    </tr>\n",
       "    <tr>\n",
       "      <th>2</th>\n",
       "      <td>0</td>\n",
       "      <td>[]</td>\n",
       "      <td>0.11</td>\n",
       "      <td>[]</td>\n",
       "      <td>1/1/30</td>\n",
       "      <td>0.0</td>\n",
       "      <td>14.0</td>\n",
       "      <td>Released</td>\n",
       "      <td>It's a Bird</td>\n",
       "      <td>8.0</td>\n",
       "      <td>2.0</td>\n",
       "    </tr>\n",
       "  </tbody>\n",
       "</table>\n",
       "</div>"
      ],
      "text/plain": [
       "   budget                                             genres  popularity  \\\n",
       "0       0  [{'id': 80, 'name': 'Crime'}, {'id': 18, 'name...        0.67   \n",
       "1       0                      [{'id': 18, 'name': 'Drama'}]        0.44   \n",
       "2       0                                                 []        0.11   \n",
       "\n",
       "                                production_companies release_date  revenue  \\\n",
       "0  [{'name': 'Joseph M. Schenck Productions', 'id...       1/1/30      0.0   \n",
       "1                                                 []       1/1/30      0.0   \n",
       "2                                                 []       1/1/30      0.0   \n",
       "\n",
       "   runtime    status             title  vote_average  vote_count  \n",
       "0     83.0  Released  The Bat Whispers           6.3         4.0  \n",
       "1     93.0  Released      Beauty Prize           0.0         1.0  \n",
       "2     14.0  Released       It's a Bird           8.0         2.0  "
      ]
     },
     "execution_count": 619,
     "metadata": {},
     "output_type": "execute_result"
    }
   ],
   "source": [
    "movies_df.head(3)"
   ]
  },
  {
   "cell_type": "markdown",
   "id": "98efea71",
   "metadata": {},
   "source": [
    "______"
   ]
  },
  {
   "cell_type": "markdown",
   "id": "84b773a4",
   "metadata": {},
   "source": [
    "### Issue: The column \"budget\" has an object data type.\n",
    "#### Define: The column \"budget\" have to be in int format.\n",
    "#### Code"
   ]
  },
  {
   "cell_type": "code",
   "execution_count": 620,
   "id": "34f8bed5",
   "metadata": {},
   "outputs": [],
   "source": [
    "# Convert 'budget' into int\n",
    "movies_df['budget'] = movies_df['budget'].astype(\"int64\")\n"
   ]
  },
  {
   "cell_type": "markdown",
   "id": "4118f9f1",
   "metadata": {},
   "source": [
    "#### Test"
   ]
  },
  {
   "cell_type": "code",
   "execution_count": 621,
   "id": "738f1406",
   "metadata": {
    "scrolled": false
   },
   "outputs": [
    {
     "name": "stdout",
     "output_type": "stream",
     "text": [
      "<class 'pandas.core.frame.DataFrame'>\n",
      "RangeIndex: 45463 entries, 0 to 45462\n",
      "Data columns (total 11 columns):\n",
      " #   Column                Non-Null Count  Dtype  \n",
      "---  ------                --------------  -----  \n",
      " 0   budget                45463 non-null  int64  \n",
      " 1   genres                45463 non-null  object \n",
      " 2   popularity            45460 non-null  float64\n",
      " 3   production_companies  45460 non-null  object \n",
      " 4   release_date          45376 non-null  object \n",
      " 5   revenue               45460 non-null  float64\n",
      " 6   runtime               45203 non-null  float64\n",
      " 7   status                45379 non-null  object \n",
      " 8   title                 45460 non-null  object \n",
      " 9   vote_average          45460 non-null  float64\n",
      " 10  vote_count            45460 non-null  float64\n",
      "dtypes: float64(5), int64(1), object(5)\n",
      "memory usage: 3.8+ MB\n"
     ]
    }
   ],
   "source": [
    "movies_df.info()"
   ]
  },
  {
   "cell_type": "markdown",
   "id": "4c830757",
   "metadata": {},
   "source": [
    "### Issue: The column \"popularity\" contains  string object\n",
    "#### Define: Drop string\n",
    "#### Code"
   ]
  },
  {
   "cell_type": "code",
   "execution_count": 622,
   "id": "4a473d32",
   "metadata": {},
   "outputs": [],
   "source": [
    "movies_df = movies_df[pd.to_numeric(movies_df['popularity'], errors='coerce').notnull()]\n"
   ]
  },
  {
   "cell_type": "code",
   "execution_count": 623,
   "id": "c71338a0",
   "metadata": {},
   "outputs": [
    {
     "name": "stdout",
     "output_type": "stream",
     "text": [
      "Empty DataFrame\n",
      "Columns: [budget, genres, popularity, production_companies, release_date, revenue, runtime, status, title, vote_average, vote_count]\n",
      "Index: []\n"
     ]
    }
   ],
   "source": [
    "print(movies_df[movies_df['popularity'].isnull()])"
   ]
  },
  {
   "cell_type": "markdown",
   "id": "b60448cd",
   "metadata": {},
   "source": [
    "### Issue: The column \"popularity\" has an object data type.\n",
    "#### Define: The column \"popularity\" have to be in float format.\n",
    "#### Code"
   ]
  },
  {
   "cell_type": "code",
   "execution_count": 624,
   "id": "3c4c1f2e",
   "metadata": {},
   "outputs": [],
   "source": [
    "# Convert 'popularity' into float\n",
    "movies_df['popularity'] = movies_df['popularity'].astype(\"float\")\n"
   ]
  },
  {
   "cell_type": "markdown",
   "id": "4c9f3530",
   "metadata": {},
   "source": [
    "#### Test"
   ]
  },
  {
   "cell_type": "code",
   "execution_count": 625,
   "id": "cf244ebf",
   "metadata": {},
   "outputs": [
    {
     "name": "stdout",
     "output_type": "stream",
     "text": [
      "<class 'pandas.core.frame.DataFrame'>\n",
      "Int64Index: 45460 entries, 0 to 45462\n",
      "Data columns (total 11 columns):\n",
      " #   Column                Non-Null Count  Dtype  \n",
      "---  ------                --------------  -----  \n",
      " 0   budget                45460 non-null  int64  \n",
      " 1   genres                45460 non-null  object \n",
      " 2   popularity            45460 non-null  float64\n",
      " 3   production_companies  45460 non-null  object \n",
      " 4   release_date          45376 non-null  object \n",
      " 5   revenue               45460 non-null  float64\n",
      " 6   runtime               45203 non-null  float64\n",
      " 7   status                45379 non-null  object \n",
      " 8   title                 45460 non-null  object \n",
      " 9   vote_average          45460 non-null  float64\n",
      " 10  vote_count            45460 non-null  float64\n",
      "dtypes: float64(5), int64(1), object(5)\n",
      "memory usage: 4.2+ MB\n"
     ]
    }
   ],
   "source": [
    "movies_df.info()"
   ]
  },
  {
   "cell_type": "markdown",
   "id": "72c326eb",
   "metadata": {},
   "source": [
    "### Issue: The column \"release_date\" has an object data type\n",
    "#### Define:  Date and time data have to be in DateTime format\n",
    "#### Code"
   ]
  },
  {
   "cell_type": "code",
   "execution_count": 626,
   "id": "742dadb6",
   "metadata": {},
   "outputs": [],
   "source": [
    "# Convert 'release_date' to a date-time\n",
    "movies_df['release_date'] = pd.to_datetime(movies_df['release_date'])\n"
   ]
  },
  {
   "cell_type": "markdown",
   "id": "2175c844",
   "metadata": {},
   "source": [
    "#### Test"
   ]
  },
  {
   "cell_type": "code",
   "execution_count": 627,
   "id": "04e0c906",
   "metadata": {},
   "outputs": [
    {
     "name": "stdout",
     "output_type": "stream",
     "text": [
      "<class 'pandas.core.frame.DataFrame'>\n",
      "Int64Index: 45460 entries, 0 to 45462\n",
      "Data columns (total 11 columns):\n",
      " #   Column                Non-Null Count  Dtype         \n",
      "---  ------                --------------  -----         \n",
      " 0   budget                45460 non-null  int64         \n",
      " 1   genres                45460 non-null  object        \n",
      " 2   popularity            45460 non-null  float64       \n",
      " 3   production_companies  45460 non-null  object        \n",
      " 4   release_date          45376 non-null  datetime64[ns]\n",
      " 5   revenue               45460 non-null  float64       \n",
      " 6   runtime               45203 non-null  float64       \n",
      " 7   status                45379 non-null  object        \n",
      " 8   title                 45460 non-null  object        \n",
      " 9   vote_average          45460 non-null  float64       \n",
      " 10  vote_count            45460 non-null  float64       \n",
      "dtypes: datetime64[ns](1), float64(5), int64(1), object(4)\n",
      "memory usage: 4.2+ MB\n"
     ]
    }
   ],
   "source": [
    "movies_df.info()"
   ]
  },
  {
   "cell_type": "markdown",
   "id": "e75d513e",
   "metadata": {},
   "source": [
    "___________"
   ]
  },
  {
   "cell_type": "markdown",
   "id": "cfbd64c7",
   "metadata": {},
   "source": [
    "### Issue: The \"genre\" column should have one primary genre.\n",
    "#### Define:  The \"genre\" column has a multiple genres \n",
    "#### Code\n"
   ]
  },
  {
   "cell_type": "code",
   "execution_count": 628,
   "id": "2c1cf99a",
   "metadata": {},
   "outputs": [],
   "source": [
    "# Extract genres information\n",
    "movies_df['genres'] = movies_df['genres'].fillna('[]')\\\n",
    "                      .apply(ast.literal_eval)\\\n",
    "                      .apply(lambda x: [i['name'] for i in x] if isinstance(x, list) else [])\n",
    "        "
   ]
  },
  {
   "cell_type": "code",
   "execution_count": 629,
   "id": "3d847860",
   "metadata": {},
   "outputs": [],
   "source": [
    "# Create the main genre column\n",
    "movies_df[\"main_genre\"] = movies_df[\"genres\"].map(lambda x: x[0] if len(x)>0 else \"None\")\n"
   ]
  },
  {
   "cell_type": "markdown",
   "id": "652dc2f6",
   "metadata": {},
   "source": [
    "#### Test"
   ]
  },
  {
   "cell_type": "code",
   "execution_count": 630,
   "id": "2edc3edc",
   "metadata": {
    "scrolled": true
   },
   "outputs": [
    {
     "data": {
      "text/plain": [
       "0    Crime\n",
       "1    Drama\n",
       "Name: main_genre, dtype: object"
      ]
     },
     "execution_count": 630,
     "metadata": {},
     "output_type": "execute_result"
    }
   ],
   "source": [
    "movies_df.main_genre.head(2)"
   ]
  },
  {
   "cell_type": "markdown",
   "id": "9f526422",
   "metadata": {},
   "source": [
    "________"
   ]
  },
  {
   "cell_type": "markdown",
   "id": "cf1dd037",
   "metadata": {},
   "source": [
    "### Issue: The \"production_companies\" column should have one company name.\n",
    "#### Define:  The \"production_companies\"  column has a multiple companies \n",
    "#### Code"
   ]
  },
  {
   "cell_type": "code",
   "execution_count": 631,
   "id": "4d076216",
   "metadata": {},
   "outputs": [],
   "source": [
    "# Extract \"production_companies\" names\n",
    "movies_df[\"production_companies\"] = movies_df[\"production_companies\"].fillna('[]')\\\n",
    "                      .apply(ast.literal_eval)\\\n",
    "                      .apply(lambda x: [i[\"name\"] for i in x] if isinstance(x, list) else [])\n"
   ]
  },
  {
   "cell_type": "code",
   "execution_count": 632,
   "id": "c7bc3845",
   "metadata": {},
   "outputs": [],
   "source": [
    "# Create the main production_companies column\n",
    "movies_df[\"main_production_companies\"] = movies_df[\"production_companies\"]\\\n",
    "                                         .map(lambda x: x[0] if len(x)>0 else \"None\")\n"
   ]
  },
  {
   "cell_type": "markdown",
   "id": "430f8826",
   "metadata": {},
   "source": [
    "#### Test"
   ]
  },
  {
   "cell_type": "code",
   "execution_count": 633,
   "id": "81ecd9a4",
   "metadata": {},
   "outputs": [
    {
     "data": {
      "text/plain": [
       "0    Joseph M. Schenck Productions\n",
       "1                             None\n",
       "Name: main_production_companies, dtype: object"
      ]
     },
     "execution_count": 633,
     "metadata": {},
     "output_type": "execute_result"
    }
   ],
   "source": [
    "movies_df.main_production_companies.head(2)"
   ]
  },
  {
   "cell_type": "markdown",
   "id": "e2ff01e9",
   "metadata": {},
   "source": [
    "The main genre and production company were extracted in their columns; hence, we don't need columns with multiples values and drop them."
   ]
  },
  {
   "cell_type": "code",
   "execution_count": 634,
   "id": "f69337e0",
   "metadata": {},
   "outputs": [],
   "source": [
    "# Drop \"genres\" and \"production_companies\" columns\n",
    "movies_df = movies_df.drop([\"genres\",\"production_companies\"], axis = 1)\n"
   ]
  },
  {
   "cell_type": "markdown",
   "id": "0baa6ac3",
   "metadata": {},
   "source": [
    "___________"
   ]
  },
  {
   "cell_type": "markdown",
   "id": "a507de05",
   "metadata": {},
   "source": [
    "### Issue: The columns \"budget\" and \"revenue\" contain 0s\n",
    "#### Define: Drop all rows with 0s\n",
    "#### Code"
   ]
  },
  {
   "cell_type": "code",
   "execution_count": 635,
   "id": "e1d172db",
   "metadata": {},
   "outputs": [
    {
     "data": {
      "text/plain": [
       "(45460, 11)"
      ]
     },
     "execution_count": 635,
     "metadata": {},
     "output_type": "execute_result"
    }
   ],
   "source": [
    "# Shape before dropping\n",
    "movies_df.shape\n"
   ]
  },
  {
   "cell_type": "code",
   "execution_count": 636,
   "id": "0501f8a4",
   "metadata": {},
   "outputs": [],
   "source": [
    "# Drop all rows with 0s in the \"budget\" and \"revenue\"\n",
    "movies_df = movies_df[(movies_df[[\"budget\",\"revenue\"]] != 0).all(axis=1)]\n"
   ]
  },
  {
   "cell_type": "code",
   "execution_count": 637,
   "id": "c2749cfd",
   "metadata": {},
   "outputs": [
    {
     "data": {
      "text/plain": [
       "(5381, 11)"
      ]
     },
     "execution_count": 637,
     "metadata": {},
     "output_type": "execute_result"
    }
   ],
   "source": [
    "# Shape after dropping\n",
    "movies_df.shape\n"
   ]
  },
  {
   "cell_type": "markdown",
   "id": "3ad12781",
   "metadata": {},
   "source": [
    "____________"
   ]
  },
  {
   "cell_type": "markdown",
   "id": "bd08e4cc",
   "metadata": {},
   "source": [
    "### Issue: The columns \"budget\" and \"revenue\" contain extremely small values. \n",
    "#### Define: Drop all values less than 100 000\n",
    "#### Code"
   ]
  },
  {
   "cell_type": "code",
   "execution_count": 638,
   "id": "03bf4389",
   "metadata": {},
   "outputs": [],
   "source": [
    "# Drop rows with budget less than 100 000 \n",
    "movies_df = movies_df[movies_df.budget >= 100000]\n"
   ]
  },
  {
   "cell_type": "markdown",
   "id": "a053dfc4",
   "metadata": {},
   "source": [
    "#### Test"
   ]
  },
  {
   "cell_type": "code",
   "execution_count": 639,
   "id": "42421c19",
   "metadata": {},
   "outputs": [
    {
     "data": {
      "text/plain": [
       "100000"
      ]
     },
     "execution_count": 639,
     "metadata": {},
     "output_type": "execute_result"
    }
   ],
   "source": [
    "movies_df.budget.min()"
   ]
  },
  {
   "cell_type": "code",
   "execution_count": 640,
   "id": "38f5bf88",
   "metadata": {},
   "outputs": [],
   "source": [
    "# Drop revenue rows less than 100 000 \n",
    "movies_df = movies_df[movies_df.revenue >= 100000]\n"
   ]
  },
  {
   "cell_type": "markdown",
   "id": "a0db345d",
   "metadata": {},
   "source": [
    "#### Test"
   ]
  },
  {
   "cell_type": "code",
   "execution_count": 641,
   "id": "288ee424",
   "metadata": {},
   "outputs": [
    {
     "data": {
      "text/plain": [
       "100000.0"
      ]
     },
     "execution_count": 641,
     "metadata": {},
     "output_type": "execute_result"
    }
   ],
   "source": [
    "movies_df[\"revenue\"].min()"
   ]
  },
  {
   "cell_type": "markdown",
   "id": "95b4eeaf",
   "metadata": {},
   "source": [
    "________"
   ]
  },
  {
   "cell_type": "markdown",
   "id": "84adf403",
   "metadata": {},
   "source": [
    "### Issue: Released date after July 2017\n",
    "#### Define: The data set can't have a `release_date` further than __July 2017__, which means all data above that date is compromised and have to be fixed.\n",
    "#### Code"
   ]
  },
  {
   "cell_type": "code",
   "execution_count": 642,
   "id": "6ac62463",
   "metadata": {},
   "outputs": [],
   "source": [
    "# Replace the 20s century with 19s for all rows above July 2017 year\n",
    "movies_df['release_date']=np.where(pd.to_datetime(movies_df['release_date']).dt.year>2017,\n",
    "                                  (pd.to_datetime(movies_df['release_date']) - pd.DateOffset(years=100)), \n",
    "                                   pd.to_datetime(movies_df['release_date']))\n"
   ]
  },
  {
   "cell_type": "markdown",
   "id": "c3ab7ef8",
   "metadata": {},
   "source": [
    "#### Test"
   ]
  },
  {
   "cell_type": "code",
   "execution_count": 643,
   "id": "b63fec38",
   "metadata": {},
   "outputs": [
    {
     "data": {
      "image/png": "[encoded data removed]",
      "text/plain": [
       "<Figure size 1080x360 with 1 Axes>"
      ]
     },
     "metadata": {},
     "output_type": "display_data"
    }
   ],
   "source": [
    "# Plot the data frame\n",
    "ax = movies_df.release_date.hist()\n",
    "\n",
    "# Set labels and legend\n",
    "ax.set_xlabel(\"Year\", fontsize=13)\n",
    "ax.set_ylabel(\"Count\", fontsize=13)\n",
    "ax.set_title(\"Distribution of movies by years\", fontsize=15);\n"
   ]
  },
  {
   "cell_type": "markdown",
   "id": "e72e6c30",
   "metadata": {},
   "source": [
    "_______"
   ]
  },
  {
   "cell_type": "markdown",
   "id": "4d2479cc",
   "metadata": {},
   "source": [
    "### Issue: The data set doesn't have a `profit` and `profit_ratio` features\n",
    "#### Define: Add a `profit` and `profit_ratio` columns with income and budget calculations\n",
    "#### Code"
   ]
  },
  {
   "cell_type": "code",
   "execution_count": 644,
   "id": "e2608329",
   "metadata": {},
   "outputs": [],
   "source": [
    "# Add \"profit\" column\n",
    "movies_df[\"profit\"] = movies_df[\"revenue\"] - movies_df[\"budget\"]\n"
   ]
  },
  {
   "cell_type": "code",
   "execution_count": 645,
   "id": "f8feba0a",
   "metadata": {},
   "outputs": [],
   "source": [
    "# Add \"profit_ratio\" column\n",
    "movies_df[\"profit_ratio\"] = movies_df[\"profit\"] / movies_df[\"revenue\"]\n"
   ]
  },
  {
   "cell_type": "markdown",
   "id": "ebb6c64e",
   "metadata": {},
   "source": [
    "______"
   ]
  },
  {
   "cell_type": "markdown",
   "id": "bf2640f8",
   "metadata": {},
   "source": [
    "### Issue: The `status` column has several status variables.\n",
    "#### Define: Drop all rows but Released status\n",
    "#### Code"
   ]
  },
  {
   "cell_type": "code",
   "execution_count": 646,
   "id": "2522a1cb",
   "metadata": {},
   "outputs": [],
   "source": [
    "movies_df = movies_df[movies_df[\"status\"]==\"Released\"]\n"
   ]
  },
  {
   "cell_type": "code",
   "execution_count": 647,
   "id": "4eb4c7a0",
   "metadata": {},
   "outputs": [],
   "source": [
    "# Drop `status` column\n",
    "movies_df = movies_df.drop([\"status\"], axis = 1)\n"
   ]
  },
  {
   "cell_type": "markdown",
   "id": "86a5c5aa",
   "metadata": {},
   "source": [
    "\n",
    "____\n"
   ]
  },
  {
   "cell_type": "code",
   "execution_count": 648,
   "id": "ed015608",
   "metadata": {},
   "outputs": [],
   "source": [
    "movies_df = movies_df[['release_date','title','main_genre','main_production_companies','runtime',\n",
    "                  'budget','revenue','profit', 'profit_ratio',\n",
    "                  'popularity', 'vote_average', 'vote_count']]"
   ]
  },
  {
   "cell_type": "code",
   "execution_count": 649,
   "id": "bfb89443",
   "metadata": {},
   "outputs": [
    {
     "data": {
      "text/plain": [
       "(5129, 12)"
      ]
     },
     "execution_count": 649,
     "metadata": {},
     "output_type": "execute_result"
    }
   ],
   "source": [
    "movies_df.shape"
   ]
  },
  {
   "cell_type": "markdown",
   "id": "0d8858b9",
   "metadata": {},
   "source": [
    "### Storing Data\n",
    "Save gathered, assessed, and cleaned master dataset to a CSV file named \"movies_df_clean.csv\""
   ]
  },
  {
   "cell_type": "code",
   "execution_count": 603,
   "id": "3b62714e",
   "metadata": {},
   "outputs": [],
   "source": [
    "# Save \"movies_df\" to a csv file called \"movies_df_clean.csv\" using the to_csv() method\n",
    "movies_df.to_csv(\"movies_df_clean2.csv\",index=False)\n"
   ]
  },
  {
   "cell_type": "markdown",
   "id": "33d7386d",
   "metadata": {},
   "source": [
    "### Summarize the cleaning process"
   ]
  },
  {
   "cell_type": "markdown",
   "id": "72aae2aa",
   "metadata": {},
   "source": [
    "The data set had __45463 rows and 24 columns__; after cleaning, it is __5129 rows and 12 columns.__\n",
    "\n",
    "It was a routine cleaning: checking the df information and converting the columns' values into the correct format. But without putting too much time, because Tableau can handle it very well.\n",
    "\n",
    "All unneeded columns were removed. In the release_date columns, we changed centuries; if the year was after 2017, it was clear that it was the wrong year and had to be changed into 19' century.\n",
    "\n",
    "Columns genres and production_companies contain multiple variables, which lead to overlapping for this analysis. The first genre and production company were extracted and put into individuals columns. \n",
    "\n",
    "The original data set had a \"budget\" and \"revenue\" columns but not a profit and profit ratio. "
   ]
  },
  {
   "cell_type": "code",
   "execution_count": null,
   "id": "0f6fd913",
   "metadata": {},
   "outputs": [],
   "source": []
  }
 ],
 "metadata": {
  "kernelspec": {
   "display_name": "Python 3",
   "language": "python",
   "name": "python3"
  },
  "language_info": {
   "codemirror_mode": {
    "name": "ipython",
    "version": 3
   },
   "file_extension": ".py",
   "mimetype": "text/x-python",
   "name": "python",
   "nbconvert_exporter": "python",
   "pygments_lexer": "ipython3",
   "version": "3.8.8"
  }
 },
 "nbformat": 4,
 "nbformat_minor": 5
}
